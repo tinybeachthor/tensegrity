{
 "cells": [
  {
   "cell_type": "code",
   "execution_count": 2,
   "id": "9745a1af-cdbe-49be-92cf-d00f060d041a",
   "metadata": {},
   "outputs": [],
   "source": [
    "import numpy as np\n",
    "from tnsgrt.structure import Structure\n",
    "\n",
    "from matplotlib import pyplot as plt\n",
    "from tnsgrt.plotter.matplotlib import MatplotlibPlotter"
   ]
  },
  {
   "cell_type": "code",
   "execution_count": null,
   "id": "5f8ac09b-36d7-45c4-87e8-717db27c179e",
   "metadata": {},
   "outputs": [],
   "source": [
    "## demo"
   ]
  },
  {
   "cell_type": "code",
   "execution_count": 19,
   "id": "43ea132f-e749-4c9e-ab13-ffd1e5184787",
   "metadata": {},
   "outputs": [],
   "source": [
    "nodes = np.array([[0,0,0],[0,1,0],[1,0,0],[1,1,0]]).transpose()\n",
    "members = np.array([\n",
    "    [2,3],[0,2],[1,3],[0,1],\n",
    "    [1,2],[3,0]\n",
    "]).transpose()\n",
    "\n",
    "s = Structure(nodes, members, number_of_strings=4)"
   ]
  },
  {
   "cell_type": "code",
   "execution_count": 22,
   "id": "1a1e9473-38a7-483a-8dbf-0107f506e4b0",
   "metadata": {},
   "outputs": [
    {
     "data": {
      "image/png": "[encoded data removed]",
      "text/plain": [
       "<Figure size 640x480 with 1 Axes>"
      ]
     },
     "metadata": {},
     "output_type": "display_data"
    }
   ],
   "source": [
    "plotter = MatplotlibPlotter()\n",
    "plotter.plot(s)\n",
    "fig, ax = plotter.get_handles()\n",
    "ax.view_init(90,-90)\n",
    "ax.axis('off')\n",
    "ax.axis('equal')\n",
    "plt.show()"
   ]
  },
  {
   "cell_type": "code",
   "execution_count": 25,
   "id": "9a86cf9e-5823-4940-92e4-a293076a7091",
   "metadata": {},
   "outputs": [
    {
     "data": {
      "text/html": [
       "<div>\n",
       "<style scoped>\n",
       "    .dataframe tbody tr th:only-of-type {\n",
       "        vertical-align: middle;\n",
       "    }\n",
       "\n",
       "    .dataframe tbody tr th {\n",
       "        vertical-align: top;\n",
       "    }\n",
       "\n",
       "    .dataframe thead th {\n",
       "        text-align: right;\n",
       "    }\n",
       "</style>\n",
       "<table border=\"1\" class=\"dataframe\">\n",
       "  <thead>\n",
       "    <tr style=\"text-align: right;\">\n",
       "      <th></th>\n",
       "      <th>lambda_</th>\n",
       "      <th>force</th>\n",
       "    </tr>\n",
       "  </thead>\n",
       "  <tbody>\n",
       "    <tr>\n",
       "      <th>0</th>\n",
       "      <td>1.0</td>\n",
       "      <td>1.000000</td>\n",
       "    </tr>\n",
       "    <tr>\n",
       "      <th>1</th>\n",
       "      <td>1.0</td>\n",
       "      <td>1.000000</td>\n",
       "    </tr>\n",
       "    <tr>\n",
       "      <th>2</th>\n",
       "      <td>1.0</td>\n",
       "      <td>1.000000</td>\n",
       "    </tr>\n",
       "    <tr>\n",
       "      <th>3</th>\n",
       "      <td>1.0</td>\n",
       "      <td>1.000000</td>\n",
       "    </tr>\n",
       "    <tr>\n",
       "      <th>4</th>\n",
       "      <td>-1.0</td>\n",
       "      <td>-1.414214</td>\n",
       "    </tr>\n",
       "    <tr>\n",
       "      <th>5</th>\n",
       "      <td>-1.0</td>\n",
       "      <td>-1.414214</td>\n",
       "    </tr>\n",
       "  </tbody>\n",
       "</table>\n",
       "</div>"
      ],
      "text/plain": [
       "   lambda_     force\n",
       "0      1.0  1.000000\n",
       "1      1.0  1.000000\n",
       "2      1.0  1.000000\n",
       "3      1.0  1.000000\n",
       "4     -1.0 -1.414214\n",
       "5     -1.0 -1.414214"
      ]
     },
     "execution_count": 25,
     "metadata": {},
     "output_type": "execute_result"
    }
   ],
   "source": [
    "reactions = s.equilibrium()\n",
    "s.member_properties[['lambda_', 'force']]"
   ]
  },
  {
   "cell_type": "code",
   "execution_count": null,
   "id": "2d466b54-ce98-448b-87b9-62acdd375c09",
   "metadata": {},
   "outputs": [],
   "source": []
  }
 ],
 "metadata": {
  "kernelspec": {
   "display_name": "Python 3 (ipykernel)",
   "language": "python",
   "name": "python3"
  },
  "language_info": {
   "codemirror_mode": {
    "name": "ipython",
    "version": 3
   },
   "file_extension": ".py",
   "mimetype": "text/x-python",
   "name": "python",
   "nbconvert_exporter": "python",
   "pygments_lexer": "ipython3",
   "version": "3.10.12"
  }
 },
 "nbformat": 4,
 "nbformat_minor": 5
}
