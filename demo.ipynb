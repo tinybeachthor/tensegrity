{
 "cells": [
  {
   "cell_type": "code",
   "execution_count": 2,
   "id": "6546c5e9-3af5-4a1a-bdc8-a06fec54b7d6",
   "metadata": {},
   "outputs": [],
   "source": [
    "import numpy as np\n",
    "import matplotlib.pyplot as plt\n",
    "from mpl_toolkits.mplot3d import Axes3D"
   ]
  },
  {
   "cell_type": "code",
   "execution_count": 3,
   "id": "673c1a7d-369d-4510-a97a-06e948ec9040",
   "metadata": {},
   "outputs": [],
   "source": [
    "def set_axis3d(self,lims):\n",
    "    self.set_xlim3d( lims[0],lims[1] );\n",
    "    self.set_ylim3d( lims[2],lims[3] );\n",
    "    self.set_zlim3d( lims[4],lims[5] );\n",
    "Axes3D.set_axis3d = set_axis3d;"
   ]
  }
 ],
 "metadata": {
  "kernelspec": {
   "display_name": "Python 3 (ipykernel)",
   "language": "python",
   "name": "python3"
  },
  "language_info": {
   "codemirror_mode": {
    "name": "ipython",
    "version": 3
   },
   "file_extension": ".py",
   "mimetype": "text/x-python",
   "name": "python",
   "nbconvert_exporter": "python",
   "pygments_lexer": "ipython3",
   "version": "3.10.12"
  }
 },
 "nbformat": 4,
 "nbformat_minor": 5
}
